{
 "cells": [
  {
   "cell_type": "code",
   "execution_count": 1,
   "metadata": {},
   "outputs": [],
   "source": [
    "import os\n",
    "from dotenv import load_dotenv\n",
    "load_dotenv()\n",
    "os.environ[\"GEMINI_API_KEY\"] = os.getenv(\"GEMINI_API_KEY\")"
   ]
  },
  {
   "cell_type": "code",
   "execution_count": 2,
   "metadata": {},
   "outputs": [
    {
     "name": "stderr",
     "output_type": "stream",
     "text": [
      "c:\\Users\\HCC\\Desktop\\Langchain_pr\\myenv\\Lib\\site-packages\\tqdm\\auto.py:21: TqdmWarning: IProgress not found. Please update jupyter and ipywidgets. See https://ipywidgets.readthedocs.io/en/stable/user_install.html\n",
      "  from .autonotebook import tqdm as notebook_tqdm\n"
     ]
    }
   ],
   "source": [
    "from langchain_google_genai import ChatGoogleGenerativeAI\n",
    "llm: ChatGoogleGenerativeAI = ChatGoogleGenerativeAI(model=\"gemini-1.5-flash\")"
   ]
  },
  {
   "cell_type": "markdown",
   "metadata": {},
   "source": [
    "# Blog Generation"
   ]
  },
  {
   "cell_type": "code",
   "execution_count": 3,
   "metadata": {},
   "outputs": [
    {
     "name": "stdout",
     "output_type": "stream",
     "text": [
      "content=\"## Catchy Machine Learning Blog Titles:\\n\\n**Intriguing & Clickbaity:**\\n\\n* Machine Learning: The Secret Weapon You're Missing\\n* Demystifying Machine Learning: It's Easier Than You Think\\n* The Future is Now: How Machine Learning is Changing Everything\\n* Unlock the Power of AI: Your Machine Learning Journey Starts Here\\n* Machine Learning Myths Debunked: Separating Fact from Fiction\\n\\n**Informative & Specific:**\\n\\n* Mastering Machine Learning Algorithms: A Practical Guide\\n* Building Your First Machine Learning Model: A Step-by-Step Tutorial\\n* The Ultimate Guide to [Specific ML Technique, e.g., Deep Learning, Reinforcement Learning]\\n* Understanding [Specific ML Concept, e.g., Bias-Variance Tradeoff, Overfitting]\\n* Machine Learning in [Specific Industry, e.g., Healthcare, Finance]\\n\\n**Creative & Playful:**\\n\\n* Machine Learning: It's Not Rocket Science (But It's Pretty Close)\\n* Adventures in Machine Learning: My Journey So Far\\n* The Curious Case of the Misbehaving Algorithm\\n* Data Science Diaries: My Life as a Machine Learning Engineer\\n* Coffee, Code, and Machine Learning: My Daily Grind\\n\\n**More Technical & Advanced:**\\n\\n* Advanced Techniques in [Specific ML Area, e.g., Natural Language Processing, Computer Vision]\\n* Optimizing Machine Learning Models for Performance and Efficiency\\n* Implementing [Specific ML Algorithm] from Scratch\\n* A Deep Dive into [Specific ML Concept, e.g., Gradient Descent, Backpropagation]\\n* Novel Approaches in Machine Learning Research\\n\\n\\n**Remember to tailor the title to your specific blog post's content!**  A good title should accurately reflect the topic and be engaging enough to attract readers.\\n\" additional_kwargs={} response_metadata={'prompt_feedback': {'block_reason': 0, 'safety_ratings': []}, 'finish_reason': 'STOP', 'safety_ratings': []} id='run-78dedef2-64cf-448d-92ab-b7ec7f5d9802-0' usage_metadata={'input_tokens': 11, 'output_tokens': 364, 'total_tokens': 375}\n"
     ]
    }
   ],
   "source": [
    "# Invoke the LLM\n",
    "print(llm.invoke('Hey, give me some title for machine learning blog'))"
   ]
  },
  {
   "cell_type": "code",
   "execution_count": 4,
   "metadata": {},
   "outputs": [
    {
     "name": "stdout",
     "output_type": "stream",
     "text": [
      "content=\"* Demystifying Machine Learning\\n* The Future is Now: Machine Learning Applications\\n* Machine Learning: A Beginner's Guide\\n* Mastering Machine Learning Algorithms\\n* Machine Learning for Everyone\\n* Beyond the Hype: Real-World Machine Learning\\n* The Ethics of Machine Learning\\n* Machine Learning and the Data Revolution\\n* Building Your First Machine Learning Model\\n* Machine Learning: Challenges and Opportunities\\n* Practical Applications of Machine Learning\\n*  Unlocking the Power of Machine Learning\\n*  Machine Learning in [Specific Industry]\\n*  The Latest Advances in Machine Learning\\n*  A Deep Dive into [Specific ML Algorithm]\\n*  Machine Learning: From Theory to Practice\\n*  Is Machine Learning Right for Your Business?\\n*  Machine Learning: Myths and Realities\\n*  The Impact of Machine Learning on Society\\n*  Machine Learning: A Comprehensive Overview\\n\\n\\n\" additional_kwargs={} response_metadata={'prompt_feedback': {'block_reason': 0, 'safety_ratings': []}, 'finish_reason': 'STOP', 'safety_ratings': []} id='run-4c4d5dd7-8d8e-4fbb-ab4b-024709138c36-0' usage_metadata={'input_tokens': 23, 'output_tokens': 179, 'total_tokens': 202}\n"
     ]
    }
   ],
   "source": [
    "print(llm.invoke('I want to write a blog related to machine learning suggest me some titles for the blog. And dont give explanation'))"
   ]
  },
  {
   "cell_type": "code",
   "execution_count": 5,
   "metadata": {},
   "outputs": [],
   "source": [
    "# Define a PromptTemplate for title suggestions\n",
    "from langchain.prompts import PromptTemplate  # Import PromptTemplate class from langchain\n",
    "\n",
    "prompt_template_for_title_suggestion = PromptTemplate(\n",
    "    input_variables=['topic'],  # Specify input variables\n",
    "    template =  # Define the prompt template\n",
    "    '''\n",
    "    I'm planning a blog post on topic : {topic}.\n",
    "    The title is informative, or humorous, or persuasive. \n",
    "    The target audience is beginners, tech enthusiasts.  \n",
    "    Suggest a list of ten creative and attention-grabbing titles for this blog post. \n",
    "    Don't give any explanation or overview to each title.\n",
    "    '''\n",
    ")"
   ]
  },
  {
   "cell_type": "code",
   "execution_count": 6,
   "metadata": {},
   "outputs": [
    {
     "name": "stdout",
     "output_type": "stream",
     "text": [
      "\n",
      "    I'm planning a blog post on topic : Data Science.\n",
      "    The title is informative, or humorous, or persuasive. \n",
      "    The target audience is beginners, tech enthusiasts.  \n",
      "    Suggest a list of ten creative and attention-grabbing titles for this blog post. \n",
      "    Don't give any explanation or overview to each title.\n",
      "    \n"
     ]
    }
   ],
   "source": [
    "print(prompt_template_for_title_suggestion.format(topic = 'Data Science'))"
   ]
  },
  {
   "cell_type": "code",
   "execution_count": 7,
   "metadata": {},
   "outputs": [],
   "source": [
    "title_chain = prompt_template_for_title_suggestion | llm"
   ]
  },
  {
   "cell_type": "code",
   "execution_count": 8,
   "metadata": {},
   "outputs": [
    {
     "name": "stdout",
     "output_type": "stream",
     "text": [
      "content=\"1. Data Science: Unlock the Secrets of the Universe (One Algorithm at a Time)\\n2. From Zero to Data Hero: Your Beginner's Guide to Data Science\\n3. Data Science: It's Not as Scary as You Think (Promise!)\\n4.  Data Science for the Technically Curious:  Dive In!\\n5.  Decoding Data: A Fun Introduction to Data Science\\n6.  Data Science:  The Future is Now (and It's All About Data)\\n7.  Beyond the Hype: What Data Science *Really* Is\\n8.  Data Science:  Your New Superpower\\n9.  Conquer Data: A Beginner's Roadmap to Data Science Mastery\\n10.  Stop Being Data-Illiterate: Your First Steps in Data Science\\n\" additional_kwargs={} response_metadata={'prompt_feedback': {'block_reason': 0, 'safety_ratings': []}, 'finish_reason': 'STOP', 'safety_ratings': []} id='run-eedaeaca-c0fa-4b3d-8284-70e5a5db592a-0' usage_metadata={'input_tokens': 80, 'output_tokens': 165, 'total_tokens': 245}\n"
     ]
    }
   ],
   "source": [
    "topic_name = \"Data Science\"\n",
    "print(title_chain.invoke({topic_name}))"
   ]
  },
  {
   "cell_type": "code",
   "execution_count": 9,
   "metadata": {},
   "outputs": [],
   "source": [
    "# Blog generation\n",
    "title_of_the_blog = 'The Court is Your Canvas: How Basketball Can Improve Your Life'\n",
    "num_of_words = 200\n",
    "formatted_keywords = 'nike, tall, annual revenue, fan base, world record'"
   ]
  },
  {
   "cell_type": "code",
   "execution_count": 10,
   "metadata": {},
   "outputs": [],
   "source": [
    "# Define a PromptTemplate for blog content generation\n",
    "prompt_template_for_blog = PromptTemplate(\n",
    "    input_variables=['title', 'keywords', 'blog_length'],  # Specify input variables\n",
    "    template=  # Define the prompt template\n",
    "    '''Write a high-quality, informative, and plagiarism-free blog post on the topic: \"{title}\". \n",
    "    Target the content towards a beginner audience. \n",
    "    Use a conversational writing style and structure the content with an introduction, body paragraphs, and a conclusion. \n",
    "    Try to incorporate these keywords: {keywords}. \n",
    "    Aim for a content length of {blog_length} words. \n",
    "    Make the content engaging and capture the reader's attention.'''\n",
    ")"
   ]
  },
  {
   "cell_type": "code",
   "execution_count": 11,
   "metadata": {},
   "outputs": [],
   "source": [
    "blog_chain = prompt_template_for_blog | llm"
   ]
  },
  {
   "cell_type": "code",
   "execution_count": 12,
   "metadata": {},
   "outputs": [
    {
     "name": "stdout",
     "output_type": "stream",
     "text": [
      "content='## The Court is Your Canvas: How Basketball Can Improve Your Life\\n\\nEver watched a nail-biting NBA game and thought, \"I wish I could do that?\"  Well, you can!  Basketball isn\\'t just a sport with a massive global fan base and Nike-sponsored superstars; it\\'s a fantastic way to boost your well-being, regardless of your height.  You don\\'t need to be seven feet tall to reap the rewards.\\n\\nBasketball is a fantastic workout.  Running up and down the court improves your cardiovascular health, while shooting and dribbling build strength and coordination.  It\\'s a full-body workout disguised as fun!  Plus, being part of a team teaches valuable lessons in cooperation, communication, and sportsmanship.  Whether you join a league or just shoot hoops with friends, you\\'ll build camaraderie and lasting friendships.\\n\\nBeyond the physical benefits, basketball enhances mental sharpness.  The constant strategizing and quick decision-making involved improve cognitive function.  And let\\'s be honest, sinking that perfect shot is incredibly satisfying!  It’s a great stress reliever and a confidence booster.  While the NBA boasts an impressive annual revenue and holds world records, the real prize is the personal growth you\\'ll experience on the court.\\n\\nSo, lace up those sneakers and head to the court.  Don\\'t worry about being the next Michael Jordan; focus on having fun and enjoying the journey. The court is your canvas, and your improved health and happiness are the masterpiece you\\'ll create.\\n' additional_kwargs={} response_metadata={'prompt_feedback': {'block_reason': 0, 'safety_ratings': []}, 'finish_reason': 'STOP', 'safety_ratings': []} id='run-88b55c75-128e-46ad-ac64-acfc036c6629-0' usage_metadata={'input_tokens': 119, 'output_tokens': 317, 'total_tokens': 436}\n"
     ]
    }
   ],
   "source": [
    "# Generate blog using the blog_chain\n",
    "print(blog_chain.invoke({'title': title_of_the_blog, 'keywords': formatted_keywords, 'blog_length':num_of_words}))"
   ]
  }
 ],
 "metadata": {
  "kernelspec": {
   "display_name": "myenv",
   "language": "python",
   "name": "python3"
  },
  "language_info": {
   "codemirror_mode": {
    "name": "ipython",
    "version": 3
   },
   "file_extension": ".py",
   "mimetype": "text/x-python",
   "name": "python",
   "nbconvert_exporter": "python",
   "pygments_lexer": "ipython3",
   "version": "3.12.1"
  }
 },
 "nbformat": 4,
 "nbformat_minor": 2
}
